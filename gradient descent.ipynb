{
 "cells": [
  {
   "cell_type": "code",
   "execution_count": 1,
   "metadata": {
    "collapsed": true
   },
   "outputs": [],
   "source": [
    "import pandas as pd\n",
    "import logging\n",
    "import numpy as np\n",
    "import sys\n",
    "import matplotlib.pyplot as plt\n",
    "from sklearn.cross_validation import train_test_split"
   ]
  },
  {
   "cell_type": "markdown",
   "metadata": {},
   "source": [
    "In this notebook we implement three versions of gradient descent w/ linear regression: batch, regularized and stochastic. First a theoretic discussion about the square loss function which we will be using: it has the Bayes Optimal Predictor of the form $g(x) = \\boldsymbol{E}[Y|X=x]$, which achieves the minimal risk among all possible hypothesis functions. \n",
    "\n",
    "Specifically, for data, target pair $(x, y)$ drawn i.i.d. from $P_{X,Y}(x,y)$, $R(f)$ the expected loss of a decision function $f$ where $R(f) = \\boldsymbol{E} \\left( l(f(x), y) \\right)$ , we show $g$ has the property that $R(g) = \\inf_f R(f)$. "
   ]
  },
  {
   "cell_type": "markdown",
   "metadata": {},
   "source": [
    "Given the hypothesis function $g: X \\rightarrow Y$ and square loss function $l(g, (x,y)) = \\frac{1}{2}\\left(g(x) - y\\right)^2$:\n",
    "\n",
    "\\begin{align*}\n",
    "\\boldsymbol{E}\\left(\\frac{1}{2}(Y - g(X))^2 \\right) & = \\frac{1}{2} \\boldsymbol{E}\\left( \\left( Y - \\boldsymbol{E} \\left( Y |X \\right) + \\boldsymbol{E} \\left( Y |X \\right) - g(X)\\right)^2 \\right) \\\\\n",
    " & = \\frac{1}{2} \\boldsymbol{E}\\left( \\boldsymbol{E} \\left( Y - \\boldsymbol{E} \\left( Y |X \\right) + \\boldsymbol{E} \\left( Y |X \\right) - g(X)\\right)^2 | X \\right) \\text{ By Law of Total Expectation}\\\\\n",
    " & = \\frac{1}{2} \\boldsymbol{E} \\left(  \\text{Var}(Y|X) \\right) +  \\boldsymbol{E} \\left( \\boldsymbol{E}(Y|X) - g(X) \\right) ^2\n",
    "\\end{align*}\n",
    "\n",
    "Since $g(x) = \\boldsymbol{E}(Y|X = x)$, set the last line above to be conditioned by the deterministic variable $X = x$. Only the expectation of variance $\\boldsymbol{E}\\left(\\text{Var}(Y|X=x)\\right) $ remains, which is the irreducible error w.r.t. sample $x$. No other hypothesis function $f \\in F$ can achieve a lower expected loss, as was claimed."
   ]
  },
  {
   "cell_type": "code",
   "execution_count": 2,
   "metadata": {
    "collapsed": false
   },
   "outputs": [
    {
     "name": "stdout",
     "output_type": "stream",
     "text": [
      "(100, 48) (100,) (100, 48) (100,)\n"
     ]
    }
   ],
   "source": [
    "dummy = np.array([[1, 1, 1],[2, 2, 2],[3, 3, 3]], dtype=float)\n",
    "file = 'hw1-data.csv'\n",
    "df = pd.read_csv(file, delimiter=',')\n",
    "X = df.values[:,:-1]\n",
    "y = df.values[:,-1]\n",
    "\n",
    "X_train, X_test, y_train, y_test = train_test_split(X, y, test_size = 100, random_state=10)\n",
    "print(X_train.shape, y_train.shape, X_test.shape, y_test.shape)"
   ]
  },
  {
   "cell_type": "code",
   "execution_count": 3,
   "metadata": {
    "collapsed": true
   },
   "outputs": [],
   "source": [
    "def feature_normalization(train, test):\n",
    "    \"\"\"Rescale the data so that each feature in the training set is in\n",
    "    the interval [0,1], and apply the same transformations to the test\n",
    "    set, using the statistics computed on the training set.\n",
    "\n",
    "    Args:\n",
    "        train - training set, a 2D numpy array of size (num_instances, num_features)\n",
    "        test  - test set, a 2D numpy array of size (num_instances, num_features)\n",
    "    Returns:\n",
    "        train_normalized - training set after normalization\n",
    "        test_normalized  - test set after normalization\n",
    "    \"\"\"\n",
    "    for col in range(train.shape[1]):\n",
    "        minimum = np.nanmin(train[:,col])\n",
    "        train[:, col] -= minimum\n",
    "        test[:, col] -= minimum\n",
    "        \n",
    "        max_ = np.nanmax(train[:,col])\n",
    "        train[:,col] /= max_\n",
    "        test[:,col] /= max_\n",
    "        \n",
    "    return train, test"
   ]
  },
  {
   "cell_type": "code",
   "execution_count": 5,
   "metadata": {
    "collapsed": true
   },
   "outputs": [],
   "source": [
    "X_train, X_test = feature_normalization(X_train, X_test)\n",
    "X_train = np.hstack((X_train, np.ones((X_train.shape[0], 1))))  # Add bias term\n",
    "X_test = np.hstack((X_test, np.ones((X_test.shape[0], 1)))) # Add bias term"
   ]
  },
  {
   "cell_type": "code",
   "execution_count": 173,
   "metadata": {
    "collapsed": false
   },
   "outputs": [
    {
     "name": "stdout",
     "output_type": "stream",
     "text": [
      "4.76289096941\n"
     ]
    }
   ],
   "source": [
    "theta = np.full(49, fill_value= 0.05, dtype=np.float)\n",
    "\n",
    "def compute_square_loss(theta, X, y):\n",
    "    \"\"\"\n",
    "    Given a set of X, y, theta, compute the square loss for predicting y with X*theta\n",
    "    Args:\n",
    "        feature - the feature vector, 2D numpy array of size (num_instances, num_features)\n",
    "        y - the label vector, 1D numpy array of size (num_instances)\n",
    "        theta - the parameter vector, 1D array of size (num_features)\n",
    "    Returns:\n",
    "        loss - the square loss, scalar\n",
    "    \"\"\"\n",
    "    #X = np.insert(X, 1, 1, axis = 1) #bias pseudo-feature\n",
    "    #theta = np.insert(theta, 1, 1)\n",
    "    \n",
    "    \n",
    "    pred = np.dot(theta, X.T)\n",
    "    #print(theta.T.shape, X.T.shape, pred.shape, ((sum((pred-y)**2))/(2*X.shape[0])).shape)\n",
    "    return ((sum((pred-y)**2))/(2*X.shape[0]))\n",
    "\n",
    "print(compute_square_loss(theta, X_train, y_train))"
   ]
  },
  {
   "cell_type": "code",
   "execution_count": 241,
   "metadata": {
    "collapsed": false
   },
   "outputs": [
    {
     "data": {
      "text/plain": [
       "array([ 1.42312141,  1.20784156,  1.06010688,  1.0060222 ,  1.16929782,\n",
       "        1.12295754,  1.05182574,  1.05182574,  0.88995025,  0.69762374,\n",
       "        0.58760797,  0.68601255,  0.72082546,  0.71605806,  0.1185265 ,\n",
       "        0.0276565 , -0.01169991, -0.01050249,  1.07864942,  1.07864942,\n",
       "        1.07864942,  0.9601701 ,  0.9601701 ,  0.9601701 ,  0.87358328,\n",
       "        0.87358328,  0.87358328,  0.83351942,  0.83351942,  0.83351942,\n",
       "        0.81130774,  0.81130774,  0.81130774,  0.45431484,  0.45431484,\n",
       "        0.45431484,  0.56469082,  0.56469082,  0.56469082,  0.64712795,\n",
       "        0.64712795,  0.64712795,  0.68474379,  0.68474379,  0.68474379,\n",
       "        0.70544184,  0.70544184,  0.70544184,  1.48750273])"
      ]
     },
     "execution_count": 241,
     "metadata": {},
     "output_type": "execute_result"
    }
   ],
   "source": [
    "def compute_square_loss_gradient(theta, X, y):\n",
    "    \"\"\"\n",
    "    Compute gradient of the square loss (as defined in compute_square_loss), at the point theta.\n",
    "    Args:\n",
    "        X - the feature vector, 2D numpy array of size (num_instances, num_features)\n",
    "        y - the label vector, 1D numpy array of size (num_instances)\n",
    "        theta - the parameter vector, 1D numpy array of size (num_features)\n",
    "    Returns:\n",
    "        grad - gradient vector, 1D numpy array of size (num_features)\n",
    "    \"\"\"\n",
    "    pred = np.dot(X, theta)\n",
    "    residual = (pred-y)\n",
    "       \n",
    "    return np.dot(residual, X)/(X.shape[0])\n",
    "\n",
    "compute_square_loss_gradient(theta, X_train, y_train)"
   ]
  },
  {
   "cell_type": "code",
   "execution_count": 204,
   "metadata": {
    "collapsed": false
   },
   "outputs": [
    {
     "data": {
      "text/plain": [
       "4.9466552380911437e-13"
      ]
     },
     "execution_count": 204,
     "metadata": {},
     "output_type": "execute_result"
    }
   ],
   "source": [
    "def unit_vec(num_features):\n",
    "    z = np.zeros(num_features-1)\n",
    "    for i in range(num_features):\n",
    "        yield np.insert(z, i, 1)\n",
    "\n",
    "def grad_checker(theta, X, y,  epsilon=0.01, tolerance=1e-4): \n",
    "    \"\"\"Implement Gradient Checker\n",
    "    Check that the function compute_square_loss_gradient returns the\n",
    "    correct gradient for the given X, y, and theta.\n",
    "\n",
    "    Let d be the number of features. Here we numerically estimate the\n",
    "    gradient by approximating the directional derivative in each of\n",
    "    the d coordinate directions: \n",
    "    (e_1 = (1,0,0,...,0), e_2 = (0,1,0,...,0), ..., e_d = (0,...,0,1) \n",
    "\n",
    "    The approximation for the directional derivative of J at the point\n",
    "    theta in the direction e_i is given by: \n",
    "    ( J(theta + epsilon * e_i) - J(theta - epsilon * e_i) ) / (2*epsilon).\n",
    "\n",
    "    We then look at the Euclidean distance between the gradient\n",
    "    computed using this approximation and the gradient computed by\n",
    "    compute_square_loss_gradient(X, y, theta).  If the Euclidean\n",
    "    distance exceeds tolerance, we say the gradient is incorrect.\n",
    "\n",
    "    Args:\n",
    "        X - the feature vector, 2D numpy array of size (num_instances, num_features)\n",
    "        y - the label vector, 1D numpy array of size (num_instances)\n",
    "        theta - the parameter vector, 1D numpy array of size (num_features)\n",
    "        epsilon - the epsilon used in approximation\n",
    "        tolerance - the tolerance error\n",
    "    \n",
    "    Return:\n",
    "        A boolean value indicate whether the gradient is correct or not\n",
    "    \"\"\"\n",
    "    true_gradient = compute_square_loss_gradient(theta, X, y) \n",
    "    num_features = theta.shape[0]\n",
    "    \n",
    "    approx_grad = []\n",
    "    for u in unit_vec(num_features):\n",
    "        approx_grad.append((compute_square_loss(theta+epsilon*u, X, y) - \n",
    "                             compute_square_loss(theta-epsilon*u, X, y))/(2*epsilon))\n",
    "        \n",
    "    difference = np.linalg.norm(np.array(approx_grad)-true_gradient)\n",
    "    correct =  difference <= tolerance \n",
    "    if not correct:\n",
    "        print(correct, difference)\n",
    "        raise Exception('incorrect gradient')\n",
    "        \n",
    "    return difference\n",
    "\n",
    "grad_checker(theta, X_train, y_train)"
   ]
  },
  {
   "cell_type": "code",
   "execution_count": 213,
   "metadata": {
    "collapsed": false
   },
   "outputs": [
    {
     "data": {
      "text/plain": [
       "4.9466552380911437e-13"
      ]
     },
     "execution_count": 213,
     "metadata": {},
     "output_type": "execute_result"
    }
   ],
   "source": [
    "def unit_vec(num_features):\n",
    "    z = np.zeros(num_features-1)\n",
    "    for i in range(num_features):\n",
    "        yield np.insert(z, i, 1)\n",
    "\n",
    "def f(*args):\n",
    "    args = list(args)\n",
    "    theta = args[2]\n",
    "    num_features = theta.shape[0]\n",
    "    \n",
    "    obj_func = args[1]\n",
    "    X = args[3]\n",
    "    y = args[4]\n",
    "    epsilon = args[5]\n",
    "    L = args[6]\n",
    "    approx_grad = []\n",
    "    for u in unit_vec(num_features):\n",
    "        \n",
    "        try:\n",
    "            approx_grad.append((obj_func(theta+epsilon*u, X, y) \n",
    "                                - obj_func(theta-epsilon*u, X, y))/(2*epsilon))\n",
    "        except:\n",
    "            approx_grad.append((obj_func(theta+epsilon*u, X, y, L) \n",
    "                                - obj_func(theta-epsilon*u, X, y, L))/(2*epsilon))\n",
    "    try:\n",
    "        true_g = args[0](theta, X, y)\n",
    "    except:\n",
    "        true_g = args[0](theta, X, y, L)\n",
    "    \n",
    "    tolerance = args[6]\n",
    "    \n",
    "    difference = np.linalg.norm(np.array(approx_grad)-true_g)\n",
    "    correct =  difference <= tolerance\n",
    "    \n",
    "    if not correct:\n",
    "        print(correct, difference)\n",
    "        raise Exception('incorrect gradient')\n",
    "    return difference\n",
    "\n",
    "def gen_grad_checker(f1, f2):\n",
    "    epsilon = 0.01\n",
    "    tolerance = 1e-4\n",
    "    L = 0.5\n",
    "    return f(f1, f2, theta, X_train, y_train,  epsilon, tolerance, L)\n",
    "\n",
    "gen_grad_checker(compute_square_loss_gradient, compute_square_loss)"
   ]
  },
  {
   "cell_type": "markdown",
   "metadata": {},
   "source": [
    "Linear Regression \n",
    "\n",
    "$J(\\theta)  = \\frac{1}{2m} \\sum ^m _{i=1} (h_\\theta(x_i) - y_i)^2$"
   ]
  },
  {
   "cell_type": "code",
   "execution_count": 208,
   "metadata": {
    "collapsed": false
   },
   "outputs": [],
   "source": [
    "def backtrack_line_search(fx, gradient, X, y, theta, alpha):\n",
    "    tau = 0.5\n",
    "    c = 0.5\n",
    "    p = -gradient\n",
    "    m = np.dot(p, gradient)\n",
    "    t = c*m\n",
    "    \n",
    "    step = (compute_square_loss((theta.T + alpha*p).flatten(), X, y))\n",
    "    #print(step, loss, alpha*t)\n",
    "    \n",
    "    #  Armijo-Goldstein cond: f(x) - f(x+ alpha_j * p) >= alpha_j * t\n",
    "    while step- fx > alpha*t :\n",
    "        alpha *= tau\n",
    "        step = (compute_square_loss((theta.T + alpha*p).flatten(), X, y))\n",
    "        \n",
    "    return alpha\n",
    "\n",
    "def batch_grad_descent(X, y, alpha=0.1, num_iter=1000, check_gradient=False, l_search = True):\n",
    "\n",
    "    num_instances, num_features = X.shape[0], X.shape[1]\n",
    "    theta_hist = np.zeros((num_iter+1, num_features))  #Initialize theta_hist\n",
    "    loss_hist = np.zeros(num_iter+1) #initialize loss_hist\n",
    "\n",
    "    theta = np.ones(num_features) #initialize theta\n",
    "    \n",
    "    a_hist = [alpha]\n",
    "    \n",
    "    for i in range(num_iter):\n",
    "        \n",
    "        loss = compute_square_loss(theta, X, y)\n",
    "        if i != 0 and loss >= loss_hist[i-1]:\n",
    "            #print(a_hist)\n",
    "            return(loss_hist[0:i], theta_hist[0:i,:])\n",
    "    \n",
    "        loss_hist[i] = loss\n",
    "        \n",
    "        gradient = compute_square_loss_gradient(theta, X, y)\n",
    "        if check_gradient:\n",
    "            #grad_checker(theta, X, y)\n",
    "            gen_grad_checker(compute_square_loss_gradient, compute_square_loss)\n",
    "        if l_search:\n",
    "            alpha= backtrack_line_search(loss, gradient, X, y, theta, alpha)\n",
    "            a_hist.append(round(alpha,4))\n",
    "        \n",
    "        theta -= alpha*gradient\n",
    "        theta_hist[i,:] = theta\n",
    "        \n",
    "    return loss_hist, theta_hist\n",
    "\n",
    "loss_hist, theta_hist = batch_grad_descent(X_train, y_train, alpha = 50)"
   ]
  },
  {
   "cell_type": "code",
   "execution_count": 271,
   "metadata": {
    "collapsed": false
   },
   "outputs": [
    {
     "data": {
      "image/png": "[encoded data removed]",
      "text/plain": [
       "<matplotlib.figure.Figure at 0x5467851278>"
      ]
     },
     "metadata": {},
     "output_type": "display_data"
    }
   ],
   "source": [
    "def alpha_graph(X, y, regularized = False):\n",
    "    l = []\n",
    "    for size in [0.1, 0.09, 0.04, 0.027]:\n",
    "        if regularized:\n",
    "            output = regularized_grad_descent(X, y, alpha = size, l_search = False)\n",
    "        else:\n",
    "            output = batch_grad_descent(X, y, alpha = size, l_search = False)\n",
    "        #loss_hist, theta_hist = p\n",
    "        l.append(output[0])\n",
    "    c = ['b', 'k', 'r',  'g'] \n",
    "    s = [221+i for i in range(len(l))]\n",
    "    fig = plt.figure()\n",
    "\n",
    "    for i in range(len(l)):\n",
    "        ax = fig.add_subplot(s[i])\n",
    "        ax.set_ylim([0, 150])\n",
    "        ax.set_xlim([0, 80])#len(l[i])])\n",
    "        ax.plot(l[i], c[i])\n",
    "    \n",
    "    #for i in range(4):\n",
    "    #    print([ '%.2f' % elem for elem in l[i] ])\n",
    "    \n",
    "    plt.tight_layout()\n",
    "    plt.show()\n",
    "\n",
    "alpha_graph(X_train, y_train, regularized = False)"
   ]
  },
  {
   "cell_type": "markdown",
   "metadata": {},
   "source": [
    "Ridge Regression (Linear Regression with $L_2$ regularization) \n",
    "\n",
    "$J(\\theta)  = \\frac{1}{2m} \\sum ^m _{i=1} (h_\\theta(x_i) - y_i)^2 + \\lambda \\theta^T \\theta$"
   ]
  },
  {
   "cell_type": "code",
   "execution_count": 246,
   "metadata": {
    "collapsed": false
   },
   "outputs": [
    {
     "data": {
      "text/plain": [
       "6.9650000171194885e-05"
      ]
     },
     "execution_count": 246,
     "metadata": {},
     "output_type": "execute_result"
    }
   ],
   "source": [
    "def r_sq_loss(theta, X, y, lambda_reg):\n",
    "    return compute_square_loss(theta, X,y) + lambda_reg*np.dot(theta.T, theta)\n",
    "\n",
    "def compute_regularized_square_loss_gradient(theta, X, y, lambda_reg):\n",
    "    \"\"\"\n",
    "    Compute the gradient of L2-regularized square loss function given X, y and theta\n",
    "    Args:\n",
    "        X - the feature vector, 2D numpy array of size (num_instances, num_features)\n",
    "        y - the label vector, 1D numpy array of size (num_instances)\n",
    "        theta - the parameter vector, 1D numpy array of size (num_features)\n",
    "        lambda_reg - the regularization coefficient\n",
    "    \n",
    "    Returns:\n",
    "        grad - gradient vector, 1D numpy array of size (num_features)\n",
    "    \"\"\"\n",
    "    pred = np.dot(X, theta)\n",
    "    \n",
    "    loss = pred-y \n",
    "    \n",
    "    return np.dot(loss, X )/X.shape[0] + (lambda_reg/X.shape[0])*theta\n",
    "\n",
    "# check regularized gradient computation w/ finite difference\n",
    "gen_grad_checker(compute_regularized_square_loss_gradient, r_sq_loss)"
   ]
  },
  {
   "cell_type": "code",
   "execution_count": 276,
   "metadata": {
    "collapsed": false
   },
   "outputs": [
    {
     "data": {
      "text/plain": [
       "(1000, 1.1692175275502041)"
      ]
     },
     "execution_count": 276,
     "metadata": {},
     "output_type": "execute_result"
    }
   ],
   "source": [
    "def regularized_grad_descent(X, y, alpha=0.1, lambda_reg=10e-7, num_iter=1000, \n",
    "                             check_gradient=False, l_search = True):\n",
    "\n",
    "    (num_instances, num_features) = X.shape\n",
    "    theta = np.ones(num_features) #Initialize theta\n",
    "    theta_hist = np.zeros((num_iter+1, num_features))  #Initialize theta_hist\n",
    "    loss_hist = np.zeros(num_iter) #initialize loss_hist\n",
    "   \n",
    "    a_hist = [alpha]\n",
    "    \n",
    "    for i in range(num_iter):\n",
    "        \n",
    "        loss = r_sq_loss(theta, X, y, lambda_reg)\n",
    "        loss_hist[i] = loss\n",
    "        \n",
    "        if i != 0 and loss >= loss_hist[i-1]:\n",
    "            #print(a_hist)\n",
    "            return(loss_hist[0:i], theta_hist[0:i, :])\n",
    "        \n",
    "        gradient = compute_regularized_square_loss_gradient( theta, X, y, lambda_reg)\n",
    "        \n",
    "        if check_gradient:\n",
    "            gen_grad_checker(compute_square_loss_gradient, compute_square_loss)\n",
    "        if l_search:\n",
    "            alpha= backtrack_line_search(loss, gradient, X, y, theta, alpha)\n",
    "            a_hist.append(round(alpha,4))\n",
    "        \n",
    "        theta -= alpha*gradient\n",
    "        theta_hist[i,:] = theta\n",
    "    \n",
    "    return loss_hist, theta_hist\n",
    "\n",
    "loss_hist, theta_hist = regularized_grad_descent(X_train, y_train, alpha = 5)\n",
    "len(loss_hist), loss_hist[-1]"
   ]
  },
  {
   "cell_type": "code",
   "execution_count": 272,
   "metadata": {
    "collapsed": false
   },
   "outputs": [
    {
     "data": {
      "image/png": "[encoded data removed]",
      "text/plain": [
       "<matplotlib.figure.Figure at 0x5467754710>"
      ]
     },
     "metadata": {},
     "output_type": "display_data"
    }
   ],
   "source": [
    "alpha_graph(X_train, y_train, regularized = True)"
   ]
  },
  {
   "cell_type": "code",
   "execution_count": 259,
   "metadata": {
    "collapsed": false
   },
   "outputs": [
    {
     "data": {
      "image/png": "[encoded data removed]",
      "text/plain": [
       "<matplotlib.figure.Figure at 0x5467818fd0>"
      ]
     },
     "metadata": {},
     "output_type": "display_data"
    }
   ],
   "source": [
    "def lambda_graph(X, y):\n",
    "    l = []\n",
    "    expo = [-2-i/2 for i in range(10)]\n",
    "    lambda_ = [ 10**e for e in expo] \n",
    "    lambda_plot = [np.log10(x) for x in lambda_]\n",
    "    \n",
    "    for lamb in lambda_:\n",
    "        loss_hist, theta_hist = regularized_grad_descent(X, y, lambda_reg = lamb)\n",
    "        l.append(loss_hist[-1])\n",
    "\n",
    "    plt.plot(lambda_plot, l)\n",
    "    plt.show()\n",
    "    \n",
    "lambda_graph(X_train, y_train)"
   ]
  },
  {
   "cell_type": "code",
   "execution_count": 275,
   "metadata": {
    "collapsed": false
   },
   "outputs": [
    {
     "data": {
      "text/plain": [
       "2.6174208469837716"
      ]
     },
     "execution_count": 275,
     "metadata": {},
     "output_type": "execute_result"
    }
   ],
   "source": [
    "def stochastic_grad_descent(X, y, alpha=0.1, lambda_reg=10e-7, num_iter=1000, l_search = True):\n",
    "    \"\"\"\n",
    "    In this question you will implement stochastic gradient descent with a regularization term\n",
    "    \n",
    "    Args:\n",
    "        X - the feature vector, 2D numpy array of size (num_instances, num_features)\n",
    "        y - the label vector, 1D numpy array of size (num_instances)\n",
    "        alpha - string or float. step size in gradient descent\n",
    "                NOTE: In SGD, it's not always a good idea to use a fixed step size. Usually it's set to 1/sqrt(t) or 1/t\n",
    "                if alpha is a float, then the step size in every iteration is alpha.\n",
    "                if alpha == \"1/sqrt(t)\", alpha = 1/sqrt(t)\n",
    "                if alpha == \"1/t\", alpha = 1/t\n",
    "        lambda_reg - the regularization coefficient\n",
    "        num_iter - number of epochs (i.e number of times) to go through the whole training set\n",
    "    \n",
    "    Returns:\n",
    "        theta_hist - the history of parameter vector, 3D numpy array of size (num_iter, num_instances, num_features) \n",
    "        loss hist - the history of regularized loss function vector, 2D numpy array of size(num_iter, num_instances)\n",
    "    \"\"\"\n",
    "    (num_instances, num_features) = X.shape\n",
    "    theta = np.ones(num_features) #Initialize theta\n",
    "    theta_hist = np.zeros((num_iter, num_features))  #Initialize theta_hist\n",
    "    loss_hist = np.zeros(num_iter) #initialize loss_hist\n",
    "    a_hist = [alpha]\n",
    "    \n",
    "    s = [i for i in range(num_instances)]\n",
    "    \n",
    "    for i in range(num_iter):\n",
    "        S = np.random.permutation(s)\n",
    "        loss = r_sq_loss(theta, X, y, lambda_reg)\n",
    "        loss_hist[i] = loss\n",
    "        \n",
    "        if i != 0:\n",
    "            if loss/loss_hist[i-1] >= 0.99999:\n",
    "                return(loss_hist[0:i], theta_hist[0:i, :])\n",
    "            if loss >= loss_hist[i-1]:\n",
    "                raise Exception('not converging')\n",
    "        \n",
    "        theta_hist[i] = theta\n",
    "        \n",
    "        if i != 0 and loss >= loss_hist[i-1]:\n",
    "            #print(a_hist)\n",
    "            return(loss_hist[0:i], theta_hist[0:i, :])\n",
    "        \n",
    "        gradient = np.array( num_features )\n",
    "        \n",
    "        for j in S:\n",
    "            pred = np.dot(theta, X[j])\n",
    "            residual = pred-y[j] \n",
    "            gradient = np.dot(residual, X[j]) /num_features\n",
    "            theta -= alpha * gradient\n",
    "        \n",
    "        if l_search:\n",
    "            alpha= backtrack_line_search(loss, gradient, X, y, theta, alpha)\n",
    "            a_hist.append(round(alpha,4))\n",
    "        \n",
    "    return loss_hist, theta_hist\n",
    "\n",
    "loss_hist, theta_hist = stochastic_grad_descent(X_train, y_train, alpha = 0.02, num_iter=100)\n",
    "loss_hist[-1]"
   ]
  },
  {
   "cell_type": "code",
   "execution_count": null,
   "metadata": {
    "collapsed": false
   },
   "outputs": [],
   "source": []
  },
  {
   "cell_type": "code",
   "execution_count": null,
   "metadata": {
    "collapsed": true
   },
   "outputs": [],
   "source": []
  }
 ],
 "metadata": {
  "anaconda-cloud": {},
  "kernelspec": {
   "display_name": "Python [conda root]",
   "language": "python",
   "name": "conda-root-py"
  },
  "language_info": {
   "codemirror_mode": {
    "name": "ipython",
    "version": 3
   },
   "file_extension": ".py",
   "mimetype": "text/x-python",
   "name": "python",
   "nbconvert_exporter": "python",
   "pygments_lexer": "ipython3",
   "version": "3.5.2"
  }
 },
 "nbformat": 4,
 "nbformat_minor": 1
}

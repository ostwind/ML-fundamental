{
 "cells": [
  {
   "cell_type": "code",
   "execution_count": 2,
   "metadata": {
    "collapsed": true
   },
   "outputs": [],
   "source": [
    "import os\n",
    "import numpy as np\n",
    "import pickle\n",
    "import random"
   ]
  },
  {
   "cell_type": "code",
   "execution_count": 6,
   "metadata": {
    "collapsed": false
   },
   "outputs": [],
   "source": [
    "random.seed(0)\n",
    "def folder_list(path,label):\n",
    "    '''\n",
    "    PARAMETER PATH IS THE PATH OF YOUR LOCAL FOLDER\n",
    "    '''\n",
    "    filelist = os.listdir(path)\n",
    "    review = []\n",
    "    for infile in filelist:\n",
    "        file = os.path.join(path,infile)\n",
    "        r = list(read_data(file))\n",
    "        r.append(label)\n",
    "        review.append(r)\n",
    "    return review\n",
    "\n",
    "def read_data(file):\n",
    "    '''\n",
    "    Read each file into a list of strings. \n",
    "    Example:\n",
    "    [\"it's\", 'a', 'curious', 'thing', \"i've\", 'found', 'that', 'when', 'willis', 'is', 'not', 'called', 'on', \n",
    "    ...'to', 'carry', 'the', 'whole', 'movie', \"he's\", 'much', 'better', 'and', 'so', 'is', 'the', 'movie']\n",
    "    '''\n",
    "    f = open(file)\n",
    "    lines = f.read().split(' ')\n",
    "    symbols = '${}()[].,:;+-*/&|<>=~\" '\n",
    "    words = map(lambda Element: Element.translate(symbols).strip(), lines)\n",
    "    words = filter(None, words)\n",
    "    return words\n",
    "\t\n",
    "    \n",
    "def shuffle_data():\n",
    "    '''\n",
    "    pos_path is where you save positive review data.\n",
    "    neg_path is where you save negative review data.\n",
    "    '''\n",
    "    pos_path = \"C:/Users/Lihan/Documents/WORD/2017 Spring/Machine Learning/hw3/txt_sentoken/pos\"\n",
    "    neg_path = \"C:/Users/Lihan/Documents/WORD/2017 Spring/Machine Learning/hw3/txt_sentoken/neg\"\n",
    "\t\n",
    "    pos_review = folder_list(pos_path,1)\n",
    "    neg_review = folder_list(neg_path,-1)\n",
    "\t\n",
    "    review = pos_review + neg_review\n",
    "    random.shuffle(review)\n",
    "    \n",
    "    pickle.dump(review[0:1500], open( \"train.p\", \"wb\" ) )\n",
    "    pickle.dump(review[1500:2000], open( \"valid.p\", \"wb\" ) )\n",
    "    return 0\n",
    "'''\n",
    "Now you have read all the files into list 'review' and it has been shuffled.\n",
    "Save your shuffled result by pickle.\n",
    "*Pickle is a useful module to serialize a python object structure. \n",
    "*Check it out. https://wiki.python.org/moin/UsingPickle\n",
    "'''\n",
    "shuffle_data()\n",
    "train = pickle.load( open( \"train.p\", \"rb\" ) )\n",
    "valid = pickle.load( open( \"valid.p\", \"rb\" ) )"
   ]
  },
  {
   "cell_type": "code",
   "execution_count": null,
   "metadata": {
    "collapsed": false
   },
   "outputs": [],
   "source": []
  },
  {
   "cell_type": "code",
   "execution_count": null,
   "metadata": {
    "collapsed": true
   },
   "outputs": [],
   "source": []
  }
 ],
 "metadata": {
  "anaconda-cloud": {},
  "kernelspec": {
   "display_name": "Python [conda root]",
   "language": "python",
   "name": "conda-root-py"
  },
  "language_info": {
   "codemirror_mode": {
    "name": "ipython",
    "version": 3
   },
   "file_extension": ".py",
   "mimetype": "text/x-python",
   "name": "python",
   "nbconvert_exporter": "python",
   "pygments_lexer": "ipython3",
   "version": "3.5.2"
  }
 },
 "nbformat": 4,
 "nbformat_minor": 1
}

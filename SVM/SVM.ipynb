{
 "cells": [
  {
   "cell_type": "code",
   "execution_count": 1,
   "metadata": {
    "collapsed": false
   },
   "outputs": [
    {
     "data": {
      "text/plain": [
       "<matplotlib.legend.Legend at 0x9b5ab17710>"
      ]
     },
     "execution_count": 1,
     "metadata": {},
     "output_type": "execute_result"
    }
   ],
   "source": [
    "import time    \n",
    "#time measuring decorator that is called as a wrapper by @timeit above func names\n",
    "def timeit(method):\n",
    "    def timed(*args, **kw):\n",
    "        ts = time.time()\n",
    "        result = method(*args, **kw)\n",
    "        te = time.time()\n",
    "\n",
    "        #print('%r (%r, %r) %2.2f sec' %(method.__name__, args, kw, te-ts))\n",
    "        print('%r %2.5f sec' %(method.__name__, te-ts))\n",
    "        return result\n",
    "    return timed\n",
    "\n",
    "import matplotlib.pyplot as plt\n",
    "from collections import OrderedDict\n",
    "\n",
    "handles, labels = plt.gca().get_legend_handles_labels()\n",
    "by_label = OrderedDict(zip(labels, handles))\n",
    "plt.legend(by_label.values(), by_label.keys())"
   ]
  },
  {
   "cell_type": "code",
   "execution_count": 104,
   "metadata": {
    "collapsed": false
   },
   "outputs": [],
   "source": [
    "import collections as c\n",
    "import pickle\n",
    "train = pickle.load( open( \"train.p\", \"rb\" ) )\n",
    "valid = pickle.load( open( \"valid.p\", \"rb\" ) )"
   ]
  },
  {
   "cell_type": "code",
   "execution_count": 3,
   "metadata": {
    "collapsed": false
   },
   "outputs": [],
   "source": [
    "import nltk \n",
    "from nltk.corpus import stopwords\n",
    "from nltk import pos_tag\n",
    "from nltk.stem.wordnet import WordNetLemmatizer\n",
    "from nltk.corpus import wordnet\n",
    "from nltk import ngrams\n",
    "import re\n",
    "#nltk.download() #to download averaged perceptron "
   ]
  },
  {
   "cell_type": "code",
   "execution_count": 105,
   "metadata": {
    "collapsed": false
   },
   "outputs": [],
   "source": [
    "def convert(input_list):\n",
    "    return c.Counter(input_list)\n",
    "\n",
    "lem = WordNetLemmatizer()\n",
    "\n",
    "def get_wordnet_pos(treebank_tag):\n",
    "    if treebank_tag.startswith('N'):\n",
    "        return wordnet.NOUN\n",
    "    #elif treebank_tag.startswith('I') | treebank_tag.startswith('U') | treebank_tag.startswith('C'):\n",
    "    #    return 'i'\n",
    "    elif treebank_tag.startswith('J'):\n",
    "        return wordnet.ADJ\n",
    "    elif treebank_tag.startswith('V'):\n",
    "        return wordnet.VERB\n",
    "    elif treebank_tag.startswith('R'):\n",
    "        return wordnet.ADV\n",
    "    else:\n",
    "        return wordnet.NOUN\n",
    "\n",
    "def process_data(data):\n",
    "    X = []\n",
    "    y = []\n",
    "\n",
    "    for review in data:\n",
    "        y.append(review[-1])\n",
    "        #nltk stopword removal as part of pre-processing\n",
    "        s_filtered = [re.sub(r\"[^A-Za-z]+\", '', word) for word in review[0:-2]] #eliminate none-alphabetic \n",
    "        s_filtered = [word for word in s_filtered if word not in stopwords.words('english')]\n",
    "        s_filtered = list(filter(None, s_filtered))\n",
    "        \n",
    "        #POS tagging then convert to bag of words dicts\n",
    "        POS_tagged = pos_tag(s_filtered)\n",
    "        POS_tagged = [(word, p) for word, p in POS_tagged if word.isalpha()]\n",
    "        \n",
    "        #lemmad = []\n",
    "        for word, p in POS_tagged:\n",
    "            p = get_wordnet_pos(p)\n",
    "            lemmad.append(lem.lemmatize(word, pos = get_wordnet_pos(p)))\n",
    "        \n",
    "        #add bigrams \n",
    "        for bgram1, bgram2 in ngrams(s_filtered, 2):\n",
    "            lemmad.append(bgram1+' '+bgram2)\n",
    "        X.append(c.Counter(lemmad))\n",
    "        \n",
    "        ###vanilla \n",
    "        #X.append(c.Counter(review[0:-2]))\n",
    "    del data\n",
    "    return X,y\n",
    "\n",
    "X_train, y_train = process_data(train)\n",
    "X_valid, y_valid = process_data(valid)"
   ]
  },
  {
   "cell_type": "code",
   "execution_count": 5,
   "metadata": {
    "collapsed": false
   },
   "outputs": [],
   "source": [
    "import numpy as np\n",
    "# Taken from http://web.stanford.edu/class/cs221/ Assignment #2 Support Code\n",
    "\n",
    "def dotProduct(d1, d2):\n",
    "    \"\"\"\n",
    "    @param dict d1: a feature vector represented by a mapping from a feature (string) to a weight (float).\n",
    "    @param dict d2: same as d1\n",
    "    @return float: the dot product between d1 and d2\n",
    "    \"\"\"\n",
    "    if len(d1) < len(d2):\n",
    "        return dotProduct(d2, d1)\n",
    "    else:\n",
    "        return sum(d1.get(f, 0) * v for f, v in d2.items())\n",
    "\n",
    "def increment(d1, scale, d2):\n",
    "    \"\"\"\n",
    "    Implements d1 += scale * d2 for sparse vectors.\n",
    "    @param dict d1: the feature vector which is mutated.\n",
    "    @param float scale\n",
    "    @param dict d2: a feature vector.\n",
    "\n",
    "    NOTE: This function does not return anything, but rather\n",
    "    increments d1 in place. We do this because it is much faster to\n",
    "    change elements of d1 in place than to build a new dictionary and\n",
    "    return it.\n",
    "    \"\"\"\n",
    "    for f, v in d2.items():\n",
    "        d1[f] = d1.get(f, 0) + v * scale"
   ]
  },
  {
   "cell_type": "code",
   "execution_count": 6,
   "metadata": {
    "collapsed": false
   },
   "outputs": [],
   "source": [
    "#Pegasos is a SGD SVM using step size rule 1/(lambda*t), run the next version \n",
    "@timeit\n",
    "def pegasos1(X, y, lamb, num_iter):\n",
    "    w = dict()\n",
    "    t = 0\n",
    "    \n",
    "    for iteration in range(num_iter):\n",
    "        for j in range(len(X)):\n",
    "            t += 1\n",
    "            step = 1/(t*lamb)\n",
    "            \n",
    "            if y[j]*dotProduct(w,X[j]) < 1:\n",
    "                w.update( (y, x*(1-lamb*step)) for y, x in w.items())\n",
    "                increment(w, step*y[j], X[j])\n",
    "            else: \n",
    "                w.update( (y, x*(1-lamb*step)) for y, x in w.items())\n",
    "    return w\n",
    "#pegasos(X_train, y_train, lamb = 1, num_iter = 1)"
   ]
  },
  {
   "cell_type": "code",
   "execution_count": 7,
   "metadata": {
    "collapsed": false
   },
   "outputs": [],
   "source": [
    "@timeit\n",
    "def pegasos2(X, y, lamb, num_iter):\n",
    "    w = dict()\n",
    "    W = dict()\n",
    "    t = 0\n",
    "    s = 1\n",
    "    for iteration in range(num_iter):\n",
    "        for j in range(len(X)):\n",
    "            t += 1\n",
    "            step = 1/(t*lamb)\n",
    "            s *= 1-(step*lamb)\n",
    "            if s == 0:\n",
    "                s = 1\n",
    "                W = dict()\n",
    "            \n",
    "            if y[j]*dotProduct(w,X[j]) < 1:\n",
    "                increment(W, step*y[j]/s, X[j])\n",
    "            w.update( (y, x*s) for y, x in W.items())\n",
    "    return w\n",
    "#w = pegasos2(X_train, y_train, lamb = 1, num_iter = 15)"
   ]
  },
  {
   "cell_type": "code",
   "execution_count": 110,
   "metadata": {
    "collapsed": false
   },
   "outputs": [],
   "source": [
    "from sklearn.feature_extraction import DictVectorizer\n",
    "from scipy.sparse import csr_matrix\n",
    "v = DictVectorizer()\n",
    "X_train_v = v.fit_transform(X_train)\n",
    "X_valid_v = v.transform(X_valid)"
   ]
  },
  {
   "cell_type": "code",
   "execution_count": 9,
   "metadata": {
    "collapsed": false
   },
   "outputs": [],
   "source": [
    "@timeit\n",
    "def pegasos3(X, y, lamb, num_iter):\n",
    "    v_loss = []\n",
    "    t_loss = []\n",
    "    num_reviews, num_fea = X.shape\n",
    "    w = np.zeros((1,num_fea))\n",
    "    W = np.zeros((1,num_fea))\n",
    "    t = 0\n",
    "    s = 1\n",
    "    for iteration in range(num_iter):\n",
    "        for j in range(X.shape[0]):\n",
    "            t += 1\n",
    "            step = 1/(t*lamb)\n",
    "            s *= 1-(step*lamb)\n",
    "            if s == 0:\n",
    "                s = 1\n",
    "                W = np.zeros((1,num_fea))\n",
    "            if not (y[j]*(X[j].dot(w.T)) >= 1):\n",
    "                W += ((step*y[j])/s)*X[j]\n",
    "                #print(W)\n",
    "            w = s*W\n",
    "        v_loss.append(loss(w, X_valid_v, y_valid))\n",
    "        t_loss.append(loss(w, X, y))\n",
    "    return v_loss, t_loss, w"
   ]
  },
  {
   "cell_type": "code",
   "execution_count": 13,
   "metadata": {
    "collapsed": false
   },
   "outputs": [
    {
     "name": "stdout",
     "output_type": "stream",
     "text": [
      "'pegasos3' 6.87056 sec\n",
      "'pegasos1' 136.05831 sec\n",
      "'pegasos2' 104.81657 sec\n",
      "-0.0006666666666666668 -0.000666666666666667 -0.000666666666667\n"
     ]
    }
   ],
   "source": [
    "v_l, t_l, w = pegasos3(X_train_v, y_train, lamb = 1, num_iter = 1)\n",
    "#print(v.inverse_transform(w)[0])\n",
    "c =v.inverse_transform(w)[0]['long able']\n",
    "a= pegasos1(X_train, y_train, lamb = 1, num_iter = 1)['long able']\n",
    "b= pegasos2(X_train, y_train, lamb = 1, num_iter = 1)['long able']\n",
    "print(a, b, c)"
   ]
  },
  {
   "cell_type": "code",
   "execution_count": null,
   "metadata": {
    "collapsed": false
   },
   "outputs": [],
   "source": []
  },
  {
   "cell_type": "code",
   "execution_count": 112,
   "metadata": {
    "collapsed": false
   },
   "outputs": [],
   "source": [
    "def loss(w, X, y):\n",
    "    #zero one loss of linear predictor\n",
    "    loss = 0\n",
    "    for i in range(X.shape[0]):\n",
    "        loss += y[i] != np.sign((X[i].dot(w.T)))\n",
    "        # add boolean to loss whenever pred is incorrect \n",
    "    return (loss/X.shape[0])[0,0]\n",
    "\n",
    "def loss2(w, X, y):\n",
    "    #zero one loss of linear predictor\n",
    "    loss = 0\n",
    "    for i in range(len(X)):\n",
    "        loss += y[i] != np.sign(dotProduct(w, X[i]))\n",
    "        # add boolean to loss whenever pred is incorrect \n",
    "    return (loss/len(X))\n",
    "#loss(w, X_valid_v, y_valid)"
   ]
  },
  {
   "cell_type": "code",
   "execution_count": null,
   "metadata": {
    "collapsed": false,
    "scrolled": true
   },
   "outputs": [],
   "source": [
    "regularizer = np.logspace(-6, 1, 10)\n",
    "v_loss = []\n",
    "t_loss =[]\n",
    "w = []\n",
    "for r in regularizer:\n",
    "    af, sd, w= pegasos3(X_train_v, y_train, lamb = r, num_iter = 10)\n",
    "    w = v.inverse_transform(w)\n",
    "    t_loss.append(loss(w, X_train, y_train))\n",
    "    v_loss.append(loss(w, X_valid, y_valid))\n",
    "plt.plot(np.log10(regularizer), t_loss, 'k--', label = 'training loss')\n",
    "plt.plot(np.log10(regularizer), v_loss, 'r', label = 'validation loss')\n",
    "plt.xlabel('Regularizer in log10')\n",
    "plt.ylabel('0-1 loss')\n",
    "plt.legend(loc='left')\n",
    "plt.show()"
   ]
  },
  {
   "cell_type": "code",
   "execution_count": 41,
   "metadata": {
    "collapsed": false
   },
   "outputs": [
    {
     "data": {
      "image/png": "[encoded data removed]",
      "text/plain": [
       "<matplotlib.figure.Figure at 0x9b5d9bd940>"
      ]
     },
     "metadata": {},
     "output_type": "display_data"
    }
   ],
   "source": [
    "iterations = 200\n",
    "#v_loss, t_loss, w = pegasos3(X_train_v, y_train, lamb = 1, num_iter = iterations)\n",
    "\n",
    "plt.plot(range(iterations), t_loss[0:iterations], 'k--', label = 'training loss')\n",
    "plt.axhline(0.15)\n",
    "plt.plot(range(iterations), v_loss[0:iterations], 'r', label = 'validation loss')\n",
    "plt.axhline(0.02)\n",
    "plt.xlabel('Number of Epochs')\n",
    "plt.ylabel('0-1 loss')\n",
    "plt.legend(loc='upper right')\n",
    "plt.show()"
   ]
  },
  {
   "cell_type": "code",
   "execution_count": 84,
   "metadata": {
    "collapsed": false
   },
   "outputs": [
    {
     "name": "stdout",
     "output_type": "stream",
     "text": [
      "'pegasos3' 63.09581 sec\n"
     ]
    }
   ],
   "source": [
    "vl, tl, w = pegasos3(X_train_v, y_train, lamb = 1, num_iter = 70) "
   ]
  },
  {
   "cell_type": "code",
   "execution_count": 86,
   "metadata": {
    "collapsed": false,
    "scrolled": true
   },
   "outputs": [
    {
     "name": "stdout",
     "output_type": "stream",
     "text": [
      "1432 1.44512380952 1 -1.0\n",
      "372 1.16348571429 1 -1.0\n",
      "1136 1.06592380952 1 -1.0\n"
     ]
    },
    {
     "data": {
      "text/plain": [
       "[1432, 372, 1136]"
      ]
     },
     "execution_count": 86,
     "metadata": {},
     "output_type": "execute_result"
    }
   ],
   "source": [
    "import operator\n",
    "#error analysis \n",
    "\n",
    "def error_analysis(w, X, y):\n",
    "    #returns indices of worst mistakes\n",
    "    errors = dict()\n",
    "    for i in range(len(X)):\n",
    "        if y[i] != np.sign(dotProduct(w, X[i])):\n",
    "            errors[i] = abs(dotProduct(w, X[i]))\n",
    "       \n",
    "    #object is [(index 1 , |w_1 x_1|), ...  ] sorted on the mistake magnitude\n",
    "    #take the first 4 of sorted, take the index i argument\n",
    "    worst = []\n",
    "    for index, value in sorted(errors.items(), key=lambda e: e[1], reverse = True)[0:3]:\n",
    "        print(index, value, y[index], np.sign(dotProduct(w, X[index])))\n",
    "        worst.append(index)\n",
    "    return worst\n",
    "\n",
    "indices = error_analysis(w[0], X_train, y_train)\n",
    "indices"
   ]
  },
  {
   "cell_type": "code",
   "execution_count": 73,
   "metadata": {
    "collapsed": false
   },
   "outputs": [
    {
     "name": "stdout",
     "output_type": "stream",
     "text": [
      "[[1.9108380952380728, 1432, '.', -0.022219047619047357], [0.31548571428571115, 1432, 'have', -0.052580952380951861], [0.30352380952380892, 1432, 'as', 0.030352380952380891]]\n",
      "[[0.9554190476190364, 372, '.', -0.022219047619047357], [0.53059047619046562, 372, '\"', -0.016580952380952051], [0.48014285714287352, 372, 'and', 0.032009523809524904]]\n",
      "[[0.73322857142856279, 1136, '.', -0.022219047619047357], [0.42342857142854295, 1136, 'to', -0.023523809523807941], [0.38411428571429884, 1136, 'and', 0.032009523809524904]]\n"
     ]
    }
   ],
   "source": [
    "for i in indices:\n",
    "    bad_features = []\n",
    "    subdic = list(set(w[0].keys()).union(set(X_train[i])))\n",
    "    occurences = c.Counter(X_train[i])\n",
    "    for word in subdic:\n",
    "        bad_features.append([abs(w[0][word]*occurences[word]),  i, word, w[0][word]])\n",
    "    \n",
    "    print(sorted(bad_features, key = lambda e: e[0], reverse= True)[0:3])"
   ]
  },
  {
   "cell_type": "code",
   "execution_count": 98,
   "metadata": {
    "collapsed": false
   },
   "outputs": [
    {
     "data": {
      "text/plain": [
       "'i didn\\'t realize how apt the name of this movie was until i called the mpaa ( the motion picture association of america - the folks who decide what\\'s g , nc 17 , pg , r or x ) to ask why the preview was rated r . so that we can make some sense of their response , let me tell you about the movie itself . ; \" the celluloid closet \" is a documentary about how homosexuality has been portrayed in the movies over the past several decades . ;it\\'s brilliant , funny , naughty and extremely poignant . ;it tore at my heart to watch a gifted lesbian screenwriter explain that , as a rule , gay audiences hunger for any hint of homosexuality on screen . ;regardless of how veiled - or how sordid - the presence of a gay or lesbian person allows others to lessen their sense of isolation and makes them feel as if they\\'re not quite so invisible as america seems to want them to be . ;the movie itself is rated r - and for good reason . ;it contains scenes of bloody , violent gay bashing and graphic , uninhibited , sex . ;as with any movie , i appreciate knowing about these things ahead of time , so i can decide for myself whether to see the movie with a friend , a date , my 11 year old niece , alone or not at all . ;but , that\\'s the movie . ;now back to the preview . ;prior to this film being theatrically released ( it was originally filmed as a documentary for hbo ) i had seen the coming attractions trailer for it at least six times . ;there was no nudity , no violence , no bad language , nothing that i could see that would be offensive or inappropriate for a general audience ( okay , whoopi goldberg did refer to someone \" boning \" someone , but the last i knew that wasn\\'t one of the seven words you can\\'t say on tv ) . ;except for a scene of two fully clothed men kissing . ;hmmmmm . ;when i inquired about the rating on the trailer , a very nice woman at the mpaa quoted from \" the handbook \" that a trailer approved for all audiences could contain \" no homosexuality or lesbianism and no going down on someone . \" ;hello ? i was in the office and it was the middle of the day . ;bravely , i pursued . ; \" i\\'ve seen that trailer , oh . . . ;probably half a dozen times , \" i gulped . . . ; \" and i don\\'t remember that scene . \" ; \" well , \" she chirped . ; \" it\\'s there . ;our little eyes are trained to see that . \" ;no really . ;in the words of dave barry , \" i am not making this up . \" ;they are \" trained \" to \" see that ? \" ;when someone who was shocked at the rating the first time and made a note to watch it carefully the following five times or so managed to let it slip past her ? ;gosh , i certainly don\\'t mean to question the mpaa , or \" the handbook \" . ;i would , however , like to suggest that it\\'s they who are in the closet on this one . ;and the light ain\\'t good in there . ;but , having seen \" the celluloid closet , \" and being one of a handful of straight people involved in a primarily gay and lesbian weekly bible study ( email me and i\\'ll give you the details ) , none of this was any big surprise . ;the point of the movie was that homosexuality , even in the politically correct 90s , is ridiculously perceived as a threat to a mostly heterosexual society . ;a point well made in this candid and honest film . ;now , i could go off on the mpaa\\'s ruling that a trailer must contain \" no homosexuality or lesbianism \" and ask how that is defined , particularly in light of some of the things , both sexual and non-sexual , that i\\'ve watched straight people do in trailers . ;i just don\\'t feel the need to go there , because it seems so obvious . ;i\\'ll instead suggest that the mpaa re-evaluated their evaluation criteria . ;let the ratings reflect not subject content , like \" sex \" and \" violence \" . ;let them reflect attitude content . ;in the future , i\\'d be interested in knowing whether the movie is rated d for disrespectful or s for stereotyped . ;then i\\'d truly be able to make an informed decision about how i spent my time .'"
      ]
     },
     "execution_count": 98,
     "metadata": {},
     "output_type": "execute_result"
    }
   ],
   "source": [
    "\" \".join(train[372][0:-2])"
   ]
  },
  {
   "cell_type": "markdown",
   "metadata": {},
   "source": [
    "Hutto, C.J. & Gilbert, E.E. (2014). VADER: A Parsimonious Rule-based Model for Sentiment Analysis of Social Media Text. Eighth International Conference on Weblogs and Social Media (ICWSM-14). Ann Arbor, MI, June 2014."
   ]
  }
 ],
 "metadata": {
  "anaconda-cloud": {},
  "kernelspec": {
   "display_name": "Python [conda root]",
   "language": "python",
   "name": "conda-root-py"
  },
  "language_info": {
   "codemirror_mode": {
    "name": "ipython",
    "version": 3
   },
   "file_extension": ".py",
   "mimetype": "text/x-python",
   "name": "python",
   "nbconvert_exporter": "python",
   "pygments_lexer": "ipython3",
   "version": "3.5.2"
  }
 },
 "nbformat": 4,
 "nbformat_minor": 1
}
